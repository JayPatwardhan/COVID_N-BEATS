{
 "cells": [
  {
   "cell_type": "markdown",
   "metadata": {},
   "source": [
    "# In this model, I will train the NBEATS time series prediction model on all states in the USA, the USA, and other countries as well to forecast deaths and cases"
   ]
  },
  {
   "cell_type": "code",
   "execution_count": 115,
   "metadata": {},
   "outputs": [],
   "source": [
    "import numpy as np\n",
    "from nbeats_keras.model import NBeatsNet\n",
    "import pandas as pd\n",
    "from collections import deque"
   ]
  },
  {
   "cell_type": "code",
   "execution_count": 116,
   "metadata": {},
   "outputs": [],
   "source": [
    "df = pd.read_csv('coviddata.csv')\n",
    "df['Date'] = pd.to_datetime(df.Date)"
   ]
  },
  {
   "cell_type": "markdown",
   "metadata": {},
   "source": [
    "# Let's try to train the model on all areas inside the USA"
   ]
  },
  {
   "cell_type": "code",
   "execution_count": 134,
   "metadata": {},
   "outputs": [],
   "source": [
    "#get list of all represented countries\n",
    "countries = df['Country_Region'].unique()\n",
    "countries = np.sort(countries)"
   ]
  },
  {
   "cell_type": "markdown",
   "metadata": {},
   "source": [
    "**Since time series for NBEATS is univariate, we cannot make an additional feature which encodes the country and case type per country as another feature because then the time series is not univariate**\n",
    "\n",
    "**So, we will create a function where the user inputs a specific country, forecast horizon, and the case type(confirmed or deaths) and the model will train accordingly**"
   ]
  },
  {
   "cell_type": "code",
   "execution_count": 138,
   "metadata": {},
   "outputs": [],
   "source": [
    "def train_for_country(countries, df, country, forecast_horizon, case)\n",
    "    current_df = df.query(f'Country_Region == \"{country}\" and Case_Type == \"{case}\"')\n",
    "    sorteddf = current_df.sort_values(by='Date')\n",
    "    sorteddf = sorteddf.groupby(sorteddf['Date'].dt.date).sum()\n",
    "    \n",
    "    \n",
    "    data=[]\n",
    "    for j in range(len(sorteddf['Cases'])):\n",
    "        if j+14 > len(sorteddf['Cases']):\n",
    "            data.append([[sorteddf['Cases'][k]] for k in range (j,len(sorteddf['Cases']))])\n",
    "        else:\n",
    "            data.append([[sorteddf['Cases'][k]] for k in range (j,j+14)])\n",
    "            \n",
    "    while len(data[-1]) < 14:\n",
    "        data.remove(data[-1])\n",
    "        \n",
    "    predictions=[]\n",
    "    for j in range(13+forecadt_horizon,len(sorteddf['Cases'])):\n",
    "        predictions.append([[sorteddf['Cases'][j]]])\n",
    "        \n",
    "    data=np.array(data)\n",
    "    predictions=np.array(predictions)\n",
    "    \n",
    "    future = np.array([data[j] for j in range(len(data)-14, len(data))]).astype('float32')\n",
    "    \n",
    "    for j in range(0,14):\n",
    "        data = np.delete(data, -1,0)\n",
    "        \n",
    "    splitter = int(0.9*len(data))\n",
    "    x_train, y_train, x_test, y_test = data[:splitter].astype('float32'), predictions[:splitter].astype('float32'), data[splitter:].astype('float32'), predictions[splitter:].astype('float32')\n",
    "    \n",
    "    #train\n",
    "    num_samples, time_steps, input_dim, output_dim = len(data), 14, 1, 1\n",
    "    \n",
    "    model = NBeatsNet(backcast_length=time_steps, forecast_length=output_dim,\n",
    "                  #stack_types=(NBeatsNet.GENERIC_BLOCK, NBeatsNet.GENERIC_BLOCK,), nb_blocks_per_stack=12,\n",
    "                  #thetas_dim=(4, 4), share_weights_in_stack=True, hidden_layer_units=256)\n",
    "    \n",
    "    model.compile_model(loss='mae', learning_rate=1e-5)\n",
    "    \n",
    "    model.fit(x_train, y_train, validation_data=(x_test, y_test), epochs=55, batch_size=5)"
   ]
  },
  {
   "cell_type": "code",
   "execution_count": null,
   "metadata": {},
   "outputs": [],
   "source": []
  }
 ],
 "metadata": {
  "kernelspec": {
   "display_name": "Python 3",
   "language": "python",
   "name": "python3"
  },
  "language_info": {
   "codemirror_mode": {
    "name": "ipython",
    "version": 3
   },
   "file_extension": ".py",
   "mimetype": "text/x-python",
   "name": "python",
   "nbconvert_exporter": "python",
   "pygments_lexer": "ipython3",
   "version": "3.7.4"
  }
 },
 "nbformat": 4,
 "nbformat_minor": 2
}
